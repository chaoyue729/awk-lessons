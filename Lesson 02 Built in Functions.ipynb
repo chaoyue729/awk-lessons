{
 "cells": [
  {
   "cell_type": "markdown",
   "metadata": {},
   "source": [
    "# Lesson 02: Built-in Functions\n",
    "\n",
    "Awk comes with a variety of built-in functions. \n",
    "\n",
    "## Math functions\n",
    "\n",
    "Basic mathematical functions are available:"
   ]
  },
  {
   "cell_type": "code",
   "execution_count": 27,
   "metadata": {
    "collapsed": false
   },
   "outputs": [
    {
     "name": "stdout",
     "output_type": "stream",
     "text": [
      "2.71828 1 1.41421 9.26536e-05 -1 1.00387\r\n"
     ]
    }
   ],
   "source": [
    "awk -v pi=3.1415 'BEGIN {print exp(1), log(exp(1)), sqrt(2), sin(pi), cos(pi), atan2(pi, 2) }' "
   ]
  },
  {
   "cell_type": "markdown",
   "metadata": {},
   "source": [
    "It can also generate random numbers on (0, 1)."
   ]
  },
  {
   "cell_type": "code",
   "execution_count": 28,
   "metadata": {
    "collapsed": false
   },
   "outputs": [
    {
     "name": "stdout",
     "output_type": "stream",
     "text": [
      "0.840188\r\n",
      "0.394383\r\n"
     ]
    }
   ],
   "source": [
    "awk 'BEGIN { print rand; print rand }' "
   ]
  },
  {
   "cell_type": "markdown",
   "metadata": {},
   "source": [
    "By default, Awk starts with same seed for each call to Awk. Running this command twice in a row returns the same result:"
   ]
  },
  {
   "cell_type": "code",
   "execution_count": 29,
   "metadata": {
    "collapsed": false
   },
   "outputs": [
    {
     "name": "stdout",
     "output_type": "stream",
     "text": [
      "0.840188\r\n",
      "0.394383\r\n"
     ]
    }
   ],
   "source": [
    "awk 'BEGIN { print rand; print rand }' "
   ]
  },
  {
   "cell_type": "markdown",
   "metadata": {},
   "source": [
    "The `srand` function can be used to set the seed:"
   ]
  },
  {
   "cell_type": "code",
   "execution_count": 30,
   "metadata": {
    "collapsed": false
   },
   "outputs": [
    {
     "name": "stdout",
     "output_type": "stream",
     "text": [
      "0.565811\r\n",
      "0.61093\r\n"
     ]
    }
   ],
   "source": [
    "awk 'BEGIN { srand(10); print rand; print rand }' "
   ]
  },
  {
   "cell_type": "code",
   "execution_count": 31,
   "metadata": {
    "collapsed": false
   },
   "outputs": [
    {
     "name": "stdout",
     "output_type": "stream",
     "text": [
      "0.565811\r\n",
      "0.61093\r\n"
     ]
    }
   ],
   "source": [
    "awk 'BEGIN { srand(10); print rand; print rand }' "
   ]
  },
  {
   "cell_type": "markdown",
   "metadata": {},
   "source": [
    "The `int` function returns \"the nearest integer to x, located between x and zero and truncated toward zero\"."
   ]
  },
  {
   "cell_type": "code",
   "execution_count": 32,
   "metadata": {
    "collapsed": false
   },
   "outputs": [
    {
     "name": "stdout",
     "output_type": "stream",
     "text": [
      "int(0.9)  =  0\r\n",
      "int(-0.9) = -0\r\n"
     ]
    }
   ],
   "source": [
    "awk 'BEGIN { print \"int(0.9)  =  \" int(0.9); print \"int(-0.9) = \" int(-0.9) }' "
   ]
  },
  {
   "cell_type": "markdown",
   "metadata": {},
   "source": [
    "## String functions"
   ]
  },
  {
   "cell_type": "markdown",
   "metadata": {},
   "source": [
    "### `substr`\n",
    "\n",
    "The `substr(s, m, n)` function will select `n-character substring of s that begins at position m counted from 1`."
   ]
  },
  {
   "cell_type": "code",
   "execution_count": 20,
   "metadata": {
    "collapsed": false
   },
   "outputs": [
    {
     "name": "stdout",
     "output_type": "stream",
     "text": [
      "Roses ose\r\n",
      "Violets iol\r\n",
      "Sugar uga\r\n",
      "And nd\r\n"
     ]
    }
   ],
   "source": [
    "awk '{ print $1, substr($1, 2, 3) }' ./data/field_data.txt"
   ]
  },
  {
   "cell_type": "markdown",
   "metadata": {},
   "source": [
    "### `index`\n",
    "`index(s, t)` returns `the position in s where the string t occurs, or 0 if it does not.``\n",
    "\n",
    "`index`'s pattern isn't a regular expression."
   ]
  },
  {
   "cell_type": "code",
   "execution_count": 22,
   "metadata": {
    "collapsed": false
   },
   "outputs": [
    {
     "name": "stdout",
     "output_type": "stream",
     "text": [
      "Roses 3\r\n",
      "Violets 7\r\n",
      "Sugar 0\r\n",
      "And 0\r\n"
     ]
    }
   ],
   "source": [
    "awk '{ print $1, index($1, \"s\") }' ./data/field_data.txt"
   ]
  },
  {
   "cell_type": "markdown",
   "metadata": {},
   "source": [
    "### `match`\n",
    "`match(s, r)` returns `the position in s where the regular expression r occurs, or 0 if it does not. The  variables RSTART and RLENGTH are set to the position and length of the matched string.`\n",
    "\n",
    "`match` is like `index` except the patten is a regular expression."
   ]
  },
  {
   "cell_type": "code",
   "execution_count": 27,
   "metadata": {
    "collapsed": false
   },
   "outputs": [
    {
     "name": "stdout",
     "output_type": "stream",
     "text": [
      "Roses 3\r\n",
      "Violets 7\r\n",
      "Sugar 1\r\n",
      "And 0\r\n"
     ]
    }
   ],
   "source": [
    "awk '{ print $1, match($1, \"[sS]\") }' ./data/field_data.txt"
   ]
  },
  {
   "cell_type": "code",
   "execution_count": 39,
   "metadata": {
    "collapsed": false
   },
   "outputs": [
    {
     "name": "stdout",
     "output_type": "stream",
     "text": [
      "a \tpattern start: 0 \tpattern end: -1\r\n",
      "bb \tpattern start: 0 \tpattern end: -1\r\n",
      "ccc \tpattern start: 1 \tpattern end: 3\r\n",
      "dddd \tpattern start: 1 \tpattern end: 3\r\n",
      "ggg \tpattern start: 1 \tpattern end: 3\r\n",
      "hh \tpattern start: 0 \tpattern end: -1\r\n",
      "i \tpattern start: 0 \tpattern end: -1\r\n"
     ]
    }
   ],
   "source": [
    "echo \"Find three or more repeated letters:\"\n",
    "awk '{ match($1, \"[a-z]{3}\"); print $1, \"\\tpattern start:\", RSTART, \"\\tpattern end:\", RLENGTH }' ./data/letters.txt"
   ]
  },
  {
   "cell_type": "markdown",
   "metadata": {},
   "source": [
    "### `split`\n",
    "\n",
    "`split(s, a, fs) splits  the string s into array elements a[1], a[2], ..., a[n], and returns n.` \n",
    "\n",
    "`The separation is done with the regular expression fs or with the field separator FS if fs is not given.   An empty string as field separator splits the string into one array element per character.`\n"
   ]
  },
  {
   "cell_type": "markdown",
   "metadata": {},
   "source": [
    "### `sub`\n",
    "`sub(r, t, s) substitutes  t  for the first occurrence of the regular expression r in the string s.  If s is not given, $0 is used.`"
   ]
  },
  {
   "cell_type": "markdown",
   "metadata": {},
   "source": [
    "### `gsub`\n",
    "`gsub` does the `same as sub except that all occurrences of the regular expression are replaced; sub and gsub return the number of replacements.`"
   ]
  },
  {
   "cell_type": "markdown",
   "metadata": {},
   "source": [
    "### sprintf\n",
    "`sprintf(fmt, expr, ... )` returns `the string resulting from formatting expr ...  according to the printf(3) format fmt`"
   ]
  }
 ],
 "metadata": {
  "kernelspec": {
   "display_name": "Bash",
   "language": "bash",
   "name": "bash"
  },
  "language_info": {
   "codemirror_mode": "shell",
   "file_extension": ".sh",
   "mimetype": "text/x-sh",
   "name": "bash"
  }
 },
 "nbformat": 4,
 "nbformat_minor": 0
}
