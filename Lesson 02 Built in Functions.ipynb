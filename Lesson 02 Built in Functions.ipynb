{
 "cells": [
  {
   "cell_type": "markdown",
   "metadata": {},
   "source": [
    "# Lesson 02: Built-in Functions\n",
    "\n",
    "Awk comes with a variety of built-in functions. Basic mathematical functions are available:"
   ]
  },
  {
   "cell_type": "code",
   "execution_count": 27,
   "metadata": {
    "collapsed": false
   },
   "outputs": [
    {
     "name": "stdout",
     "output_type": "stream",
     "text": [
      "2.71828 1 1.41421 9.26536e-05 -1 1.00387\r\n"
     ]
    }
   ],
   "source": [
    "awk -v pi=3.1415 'BEGIN {print exp(1), log(exp(1)), sqrt(2), sin(pi), cos(pi), atan2(pi, 2) }' "
   ]
  },
  {
   "cell_type": "markdown",
   "metadata": {},
   "source": [
    "It can also generate random numbers on (0, 1)."
   ]
  },
  {
   "cell_type": "code",
   "execution_count": 28,
   "metadata": {
    "collapsed": false
   },
   "outputs": [
    {
     "name": "stdout",
     "output_type": "stream",
     "text": [
      "0.840188\r\n",
      "0.394383\r\n"
     ]
    }
   ],
   "source": [
    "awk 'BEGIN { print rand; print rand }' "
   ]
  },
  {
   "cell_type": "markdown",
   "metadata": {},
   "source": [
    "By default, Awk starts with same seed for each call to Awk. Running this command twice in a row returns the same result:"
   ]
  },
  {
   "cell_type": "code",
   "execution_count": 29,
   "metadata": {
    "collapsed": false
   },
   "outputs": [
    {
     "name": "stdout",
     "output_type": "stream",
     "text": [
      "0.840188\r\n",
      "0.394383\r\n"
     ]
    }
   ],
   "source": [
    "awk 'BEGIN { print rand; print rand }' "
   ]
  },
  {
   "cell_type": "markdown",
   "metadata": {},
   "source": [
    "The `srand` function can be used to set the seed:"
   ]
  },
  {
   "cell_type": "code",
   "execution_count": 30,
   "metadata": {
    "collapsed": false
   },
   "outputs": [
    {
     "name": "stdout",
     "output_type": "stream",
     "text": [
      "0.565811\r\n",
      "0.61093\r\n"
     ]
    }
   ],
   "source": [
    "awk 'BEGIN { srand(10); print rand; print rand }' "
   ]
  },
  {
   "cell_type": "code",
   "execution_count": 31,
   "metadata": {
    "collapsed": false
   },
   "outputs": [
    {
     "name": "stdout",
     "output_type": "stream",
     "text": [
      "0.565811\r\n",
      "0.61093\r\n"
     ]
    }
   ],
   "source": [
    "awk 'BEGIN { srand(10); print rand; print rand }' "
   ]
  },
  {
   "cell_type": "markdown",
   "metadata": {},
   "source": [
    "The `int` function returns \"the nearest integer to x, located between x and zero and truncated toward zero\"."
   ]
  },
  {
   "cell_type": "code",
   "execution_count": 32,
   "metadata": {
    "collapsed": false
   },
   "outputs": [
    {
     "name": "stdout",
     "output_type": "stream",
     "text": [
      "int(0.9)  =  0\r\n",
      "int(-0.9) = -0\r\n"
     ]
    }
   ],
   "source": [
    "awk 'BEGIN { print \"int(0.9)  =  \" int(0.9); print \"int(-0.9) = \" int(-0.9) }' "
   ]
  }
 ],
 "metadata": {
  "kernelspec": {
   "display_name": "Bash",
   "language": "bash",
   "name": "bash"
  },
  "language_info": {
   "codemirror_mode": "shell",
   "file_extension": ".sh",
   "mimetype": "text/x-sh",
   "name": "bash"
  }
 },
 "nbformat": 4,
 "nbformat_minor": 0
}
