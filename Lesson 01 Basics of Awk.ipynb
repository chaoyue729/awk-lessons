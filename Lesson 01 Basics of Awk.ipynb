{
 "cells": [
  {
   "cell_type": "markdown",
   "metadata": {},
   "source": [
    "# Lesson 01: Basics of Awk"
   ]
  },
  {
   "cell_type": "markdown",
   "metadata": {},
   "source": [
    "If you haven't read the Awk [man page](https://developer.apple.com/library/mac/documentation/Darwin/Reference/ManPages/man1/awk.1.html)], you should start there. It's helpful! Some highlights: \n",
    "\n",
    "> awk − pattern-directed scanning and processing language\n",
    "\n",
    "> `awk [ −F fs ] [ −v var=value ] [ ’prog’ | −f progfile ] [ file ... ]`\n",
    "\n",
    "> _Awk_ scans each input _file_ for lines that match any of a set of patterns specified literally in _prog_ or in one or more files specified as __−f__ _progfile_.\n",
    "\n",
    "> With each pattern there can be an associated action that will be performed when a line of a _file_ matches the pattern.\n",
    "\n",
    "> Each line is matched against the pattern portion of every pattern-action statement; the associated action is performed for each matched pattern\n",
    "\n",
    "> A pattern-action statement has the form `pattern {action}`.\n",
    "\n",
    "> A missing `{ action }` means print the line; a missing pattern always matches. \n",
    "\n",
    "I created an simple example file to demonstrate basic Awk:"
   ]
  },
  {
   "cell_type": "code",
   "execution_count": 1,
   "metadata": {
    "collapsed": false
   },
   "outputs": [
    {
     "name": "stdout",
     "output_type": "stream",
     "text": [
      "a\r\n",
      "bb\r\n",
      "ccc\r\n",
      "dddd\r\n",
      "ggg\r\n",
      "hh\r\n",
      "i"
     ]
    }
   ],
   "source": [
    "cat data/letters.txt"
   ]
  },
  {
   "cell_type": "markdown",
   "metadata": {},
   "source": [
    "### A Basic Pattern\n",
    "\n",
    "If we match lines longer than two characters and use the implicit print action, we get:"
   ]
  },
  {
   "cell_type": "code",
   "execution_count": 2,
   "metadata": {
    "collapsed": false
   },
   "outputs": [
    {
     "name": "stdout",
     "output_type": "stream",
     "text": [
      "ccc\r\n",
      "dddd\r\n",
      "ggg\r\n"
     ]
    }
   ],
   "source": [
    "awk 'length($0) > 2' data/letters.txt"
   ]
  },
  {
   "cell_type": "markdown",
   "metadata": {},
   "source": [
    "`$0` is a variable that contains the line.\n",
    "\n",
    "If we leave out a pattern, we will match every line. A trivial action would be to print each line:"
   ]
  },
  {
   "cell_type": "code",
   "execution_count": 3,
   "metadata": {
    "collapsed": false
   },
   "outputs": [
    {
     "name": "stdout",
     "output_type": "stream",
     "text": [
      "a\r\n",
      "bb\r\n",
      "ccc\r\n",
      "dddd\r\n",
      "ggg\r\n",
      "hh\r\n",
      "i\r\n"
     ]
    }
   ],
   "source": [
    "awk '{ print }' data/letters.txt"
   ]
  },
  {
   "cell_type": "markdown",
   "metadata": {},
   "source": [
    "Using the `length` function as our action, we can get the length of each line:"
   ]
  },
  {
   "cell_type": "code",
   "execution_count": 4,
   "metadata": {
    "collapsed": false
   },
   "outputs": [
    {
     "name": "stdout",
     "output_type": "stream",
     "text": [
      "1\r\n",
      "2\r\n",
      "3\r\n",
      "4\r\n",
      "3\r\n",
      "2\r\n",
      "1\r\n"
     ]
    }
   ],
   "source": [
    "awk '{ print length }' data/letters.txt"
   ]
  },
  {
   "cell_type": "markdown",
   "metadata": {},
   "source": [
    "The action implicity acts on the whole line. We can be more explicit if we want:"
   ]
  },
  {
   "cell_type": "code",
   "execution_count": 5,
   "metadata": {
    "collapsed": false
   },
   "outputs": [
    {
     "name": "stdout",
     "output_type": "stream",
     "text": [
      "1\r\n",
      "2\r\n",
      "3\r\n",
      "4\r\n",
      "3\r\n",
      "2\r\n",
      "1\r\n"
     ]
    }
   ],
   "source": [
    "awk '{ print length($0) }' data/letters.txt"
   ]
  }
 ],
 "metadata": {
  "kernelspec": {
   "display_name": "Bash",
   "language": "bash",
   "name": "bash"
  },
  "language_info": {
   "codemirror_mode": "shell",
   "file_extension": ".sh",
   "mimetype": "text/x-sh",
   "name": "bash"
  }
 },
 "nbformat": 4,
 "nbformat_minor": 0
}
