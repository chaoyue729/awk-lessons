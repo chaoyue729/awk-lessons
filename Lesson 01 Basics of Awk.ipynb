{
 "cells": [
  {
   "cell_type": "markdown",
   "metadata": {},
   "source": [
    "# Lesson 01: Basics of Awk"
   ]
  },
  {
   "cell_type": "markdown",
   "metadata": {},
   "source": [
    "If you haven't read the Awk [man page](https://developer.apple.com/library/mac/documentation/Darwin/Reference/ManPages/man1/awk.1.html), you should start there. It's helpful! Some highlights: \n",
    "\n",
    "> awk − pattern-directed scanning and processing language\n",
    "\n",
    "> `awk [ −F fs ] [ −v var=value ] [ ’prog’ | −f progfile ] [ file ... ]`\n",
    "\n",
    "> _Awk_ scans each input _file_ for lines that match any of a set of patterns specified literally in _prog_ or in one or more files specified as __−f__ _progfile_.\n",
    "\n",
    "> With each pattern there can be an associated action that will be performed when a line of a _file_ matches the pattern.\n",
    "\n",
    "> Each line is matched against the pattern portion of every pattern-action statement; the associated action is performed for each matched pattern\n",
    "\n",
    "> A pattern-action statement has the form `pattern {action}`.\n",
    "\n",
    "> A missing `{ action }` means print the line; a missing pattern always matches. \n",
    "\n",
    "I created an simple example file to demonstrate basic Awk:"
   ]
  },
  {
   "cell_type": "code",
   "execution_count": 1,
   "metadata": {
    "collapsed": false
   },
   "outputs": [
    {
     "name": "stdout",
     "output_type": "stream",
     "text": [
      "a\r\n",
      "bb\r\n",
      "ccc\r\n",
      "dddd\r\n",
      "ggg\r\n",
      "hh\r\n",
      "i"
     ]
    }
   ],
   "source": [
    "cat data/letters.txt"
   ]
  },
  {
   "cell_type": "markdown",
   "metadata": {},
   "source": [
    "### A Basic Pattern\n",
    "\n",
    "If we match lines longer than two characters and use the implicit print action, we get:"
   ]
  },
  {
   "cell_type": "code",
   "execution_count": 2,
   "metadata": {
    "collapsed": false
   },
   "outputs": [
    {
     "name": "stdout",
     "output_type": "stream",
     "text": [
      "bb\r\n",
      "ccc\r\n",
      "dddd\r\n",
      "ggg\r\n",
      "hh\r\n"
     ]
    }
   ],
   "source": [
    "awk 'length $0 > 2' data/letters.txt"
   ]
  },
  {
   "cell_type": "markdown",
   "metadata": {},
   "source": [
    "`$0` is a built-in variable that contains the line.\n",
    "\n",
    "### A Basic Function\n",
    "\n",
    "If we leave out a pattern, we will match every line. A trivial action would be to print each line:"
   ]
  },
  {
   "cell_type": "code",
   "execution_count": 3,
   "metadata": {
    "collapsed": false
   },
   "outputs": [
    {
     "name": "stdout",
     "output_type": "stream",
     "text": [
      "a\r\n",
      "bb\r\n",
      "ccc\r\n",
      "dddd\r\n",
      "ggg\r\n",
      "hh\r\n",
      "i\r\n"
     ]
    }
   ],
   "source": [
    "awk '{ print }' data/letters.txt"
   ]
  },
  {
   "cell_type": "markdown",
   "metadata": {},
   "source": [
    "Using the `length` function as our action, we can get the length of each line:"
   ]
  },
  {
   "cell_type": "code",
   "execution_count": 4,
   "metadata": {
    "collapsed": false
   },
   "outputs": [
    {
     "name": "stdout",
     "output_type": "stream",
     "text": [
      "1\r\n",
      "2\r\n",
      "3\r\n",
      "4\r\n",
      "3\r\n",
      "2\r\n",
      "1\r\n"
     ]
    }
   ],
   "source": [
    "awk '{ print length }' data/letters.txt"
   ]
  },
  {
   "cell_type": "markdown",
   "metadata": {},
   "source": [
    "The action implicity acts on the whole line. We can be more explicit if we want:"
   ]
  },
  {
   "cell_type": "code",
   "execution_count": 5,
   "metadata": {
    "collapsed": false
   },
   "outputs": [
    {
     "name": "stdout",
     "output_type": "stream",
     "text": [
      "1a\r\n",
      "2bb\r\n",
      "3ccc\r\n",
      "4dddd\r\n",
      "3ggg\r\n",
      "2hh\r\n",
      "1i\r\n"
     ]
    }
   ],
   "source": [
    "awk '{ print length $0 }' data/letters.txt"
   ]
  },
  {
   "cell_type": "markdown",
   "metadata": {},
   "source": [
    "Awk has special controls for executing some code before the file input begins and after it is complete."
   ]
  },
  {
   "cell_type": "code",
   "execution_count": 3,
   "metadata": {
    "collapsed": false
   },
   "outputs": [
    {
     "name": "stdout",
     "output_type": "stream",
     "text": [
      "HI\r\n",
      "a\r\n",
      "bb\r\n",
      "ccc\r\n",
      "dddd\r\n",
      "ggg\r\n",
      "hh\r\n",
      "i\r\n",
      "BYE!\r\n"
     ]
    }
   ],
   "source": [
    "awk 'BEGIN { print \"HI\" } { print $0 } END { print \"BYE!\" }' data/letters.txt"
   ]
  },
  {
   "cell_type": "markdown",
   "metadata": {},
   "source": [
    "### Combining Patterns and Functions\n",
    "\n",
    "Of course, patterns and functions can be combined so that the function is only applied when the pattern is matched. \n",
    "\n",
    "From the man page:\n",
    "\n",
    "> A pattern-action statement has the form\n",
    "\n",
    "> ```pattern { action }```\n",
    "\n",
    "We can print the length of all lines longer than 2 characters."
   ]
  },
  {
   "cell_type": "code",
   "execution_count": 6,
   "metadata": {
    "collapsed": false
   },
   "outputs": [
    {
     "name": "stdout",
     "output_type": "stream",
     "text": [
      "3\r\n",
      "4\r\n",
      "3\r\n"
     ]
    }
   ],
   "source": [
    "awk 'length($0) > 2 { print length($0) }' data/letters.txt"
   ]
  },
  {
   "cell_type": "markdown",
   "metadata": {},
   "source": [
    "### Multiple Fields\n",
    "\n",
    "Awk is designed for easy handling of data with multiple fields per row. The field delimiter can be specified with the `-F` option.\n",
    "\n",
    "Here's a simple space-delimited file:"
   ]
  },
  {
   "cell_type": "code",
   "execution_count": 7,
   "metadata": {
    "collapsed": false
   },
   "outputs": [
    {
     "name": "stdout",
     "output_type": "stream",
     "text": [
      "Roses are red,\r\n",
      "Violets are blue,\r\n",
      "Sugar is sweet,\r\n",
      "And so are you.\r\n"
     ]
    }
   ],
   "source": [
    "awk '{print }' data/field_data.txt"
   ]
  },
  {
   "cell_type": "markdown",
   "metadata": {},
   "source": [
    "If we specify the field seperator, we can print the second field from each row:"
   ]
  },
  {
   "cell_type": "code",
   "execution_count": 8,
   "metadata": {
    "collapsed": false
   },
   "outputs": [
    {
     "name": "stdout",
     "output_type": "stream",
     "text": [
      "are\r\n",
      "are\r\n",
      "is\r\n",
      "so\r\n"
     ]
    }
   ],
   "source": [
    "awk -F \" \" '{print $2 }' data/field_data.txt"
   ]
  },
  {
   "cell_type": "markdown",
   "metadata": {},
   "source": [
    "We don't get an error if a line doesn't have the referenced field; it just shows up as blank:"
   ]
  },
  {
   "cell_type": "code",
   "execution_count": 9,
   "metadata": {
    "collapsed": false
   },
   "outputs": [
    {
     "name": "stdout",
     "output_type": "stream",
     "text": [
      "\r\n",
      "\r\n",
      "\r\n",
      "you.\r\n"
     ]
    }
   ],
   "source": [
    "awk -F \" \" '{print $4 }' data/field_data.txt"
   ]
  },
  {
   "cell_type": "markdown",
   "metadata": {},
   "source": [
    "The seperator expression is interpreted as a regular expression."
   ]
  },
  {
   "cell_type": "code",
   "execution_count": 10,
   "metadata": {
    "collapsed": false
   },
   "outputs": [
    {
     "name": "stdout",
     "output_type": "stream",
     "text": [
      "Field 1: Roses \r\n",
      "Field 2: red,\r\n",
      "Field 1: Violets \r\n",
      "Field 2: blue,\r\n",
      "Field 1: Sugar \r\n",
      "Field 2: sweet,\r\n",
      "Field 1: And \r\n",
      "Field 2: you.\r\n"
     ]
    }
   ],
   "source": [
    "awk -F \"((so )?are|is) \" '{print \"Field 1: \" $1 \"\\nField 2: \" $2}' data/field_data.txt"
   ]
  },
  {
   "cell_type": "markdown",
   "metadata": {},
   "source": [
    "### Built-in Functions\n",
    "\n",
    "Awk comes with a variety of built-in functions. Basic mathematical functions are available:"
   ]
  },
  {
   "cell_type": "code",
   "execution_count": 18,
   "metadata": {
    "collapsed": false
   },
   "outputs": [
    {
     "name": "stdout",
     "output_type": "stream",
     "text": [
      "2.718281 02 13 0.8414714 0.5403025 0.708626\r\n"
     ]
    }
   ],
   "source": [
    "echo \"1 2 3 4 5 6 7\" | awk '{print exp $1, log $2, sqrt $3, sin $4, cos $5, atan2($6, $7) }' "
   ]
  },
  {
   "cell_type": "markdown",
   "metadata": {},
   "source": [
    "It can also generate random numbers on (0, 1). Using the `BEGIN` control, we can generate a random number without having to provide any input to Awk."
   ]
  },
  {
   "cell_type": "code",
   "execution_count": 48,
   "metadata": {
    "collapsed": false
   },
   "outputs": [
    {
     "name": "stdout",
     "output_type": "stream",
     "text": [
      "0.840188\r\n",
      "0.394383\r\n"
     ]
    }
   ],
   "source": [
    "awk 'BEGIN { print rand; print rand }' "
   ]
  },
  {
   "cell_type": "markdown",
   "metadata": {},
   "source": [
    "By default, Awk starts with same seed for each call to Awk. Running this command twice in a row returns the same result:"
   ]
  },
  {
   "cell_type": "code",
   "execution_count": 49,
   "metadata": {
    "collapsed": false
   },
   "outputs": [
    {
     "name": "stdout",
     "output_type": "stream",
     "text": [
      "0.840188\r\n",
      "0.394383\r\n"
     ]
    }
   ],
   "source": [
    "awk 'BEGIN { print rand; print rand }' "
   ]
  },
  {
   "cell_type": "markdown",
   "metadata": {},
   "source": [
    "The `srand` function can be used to set the seed:"
   ]
  },
  {
   "cell_type": "code",
   "execution_count": 52,
   "metadata": {
    "collapsed": false
   },
   "outputs": [
    {
     "name": "stdout",
     "output_type": "stream",
     "text": [
      "0.565811\r\n",
      "0.61093\r\n"
     ]
    }
   ],
   "source": [
    "awk 'BEGIN { srand(10); print rand; print rand }' "
   ]
  },
  {
   "cell_type": "markdown",
   "metadata": {},
   "source": [
    "The `int` function returns \"the nearest integer to x, located between x and zero and truncated toward zero\"."
   ]
  },
  {
   "cell_type": "code",
   "execution_count": 59,
   "metadata": {
    "collapsed": false
   },
   "outputs": [
    {
     "name": "stdout",
     "output_type": "stream",
     "text": [
      "int(0.9) = 0\r\n",
      "int(-0.9) = -0\r\n"
     ]
    }
   ],
   "source": [
    "awk 'BEGIN { print \"int(0.9) = \" int(0.9); print \"int(-0.9) = \" int(-0.9) }' "
   ]
  }
 ],
 "metadata": {
  "kernelspec": {
   "display_name": "Bash",
   "language": "bash",
   "name": "bash"
  },
  "language_info": {
   "codemirror_mode": "shell",
   "file_extension": ".sh",
   "mimetype": "text/x-sh",
   "name": "bash"
  }
 },
 "nbformat": 4,
 "nbformat_minor": 0
}
