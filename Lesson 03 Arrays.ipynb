{
 "cells": [
  {
   "cell_type": "markdown",
   "metadata": {},
   "source": [
    "# Lesson 03: Arrays"
   ]
  },
  {
   "cell_type": "markdown",
   "metadata": {},
   "source": [
    "Awk provides a limited number of data structures. Besides scalar and string variables, an array data structure is built into the language. While officially called \"arrays\", this structure is actually an associtiave array, analgous to a Python `dict` data structure.\n",
    "\n",
    "Arrays don't need to be initialized. You can just start assigning. Notice that keys can be numeric or strings."
   ]
  },
  {
   "cell_type": "code",
   "execution_count": 23,
   "metadata": {
    "collapsed": false
   },
   "outputs": [
    {
     "name": "stdout",
     "output_type": "stream",
     "text": [
      "1.1 0 CAT\r\n"
     ]
    }
   ],
   "source": [
    "awk 'BEGIN { \\\n",
    "      a[0] = 1.1; \\\n",
    "      a[0.83] = 0; \\\n",
    "      a[\"DOG\"] = \"CAT\"; \\\n",
    "      print a[0], a[0.83], a[\"DOG\"] \\\n",
    "     }'"
   ]
  },
  {
   "cell_type": "markdown",
   "metadata": {},
   "source": [
    "Awk won't print an un-indexed array:"
   ]
  },
  {
   "cell_type": "code",
   "execution_count": 25,
   "metadata": {
    "collapsed": false
   },
   "outputs": [
    {
     "name": "stdout",
     "output_type": "stream",
     "text": [
      "awk: can't read value of a; it's an array name.\r\n",
      " source line number 3\r\n"
     ]
    }
   ],
   "source": [
    "awk 'BEGIN { \\\n",
    "      a[\"DOG\"] = \"CAT\"; \\\n",
    "      print a \\\n",
    "     }'"
   ]
  },
  {
   "cell_type": "markdown",
   "metadata": {},
   "source": [
    "However, we can loop through the keys using `for`:"
   ]
  },
  {
   "cell_type": "code",
   "execution_count": 42,
   "metadata": {
    "collapsed": false
   },
   "outputs": [
    {
     "name": "stdout",
     "output_type": "stream",
     "text": [
      "0\r\n",
      "CAT\r\n",
      "1.1\r\n"
     ]
    }
   ],
   "source": [
    "awk 'BEGIN { \\\n",
    "      a[0] = 1.1; \\\n",
    "      a[0.83] = 0; \\\n",
    "      a[\"DOG\"] = \"CAT\"; \\\n",
    "      for(k in a) print(a[k]) \\\n",
    "      }'"
   ]
  }
 ],
 "metadata": {
  "kernelspec": {
   "display_name": "Bash",
   "language": "bash",
   "name": "bash"
  },
  "language_info": {
   "codemirror_mode": "shell",
   "file_extension": ".sh",
   "mimetype": "text/x-sh",
   "name": "bash"
  }
 },
 "nbformat": 4,
 "nbformat_minor": 0
}
