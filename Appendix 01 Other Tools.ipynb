{
 "cells": [
  {
   "cell_type": "markdown",
   "metadata": {},
   "source": [
    "* [sed](https://www.gnu.org/software/sed/manual/sed.html): \"sed is a stream editor. A stream editor is used to perform basic text transformations on an input stream (a file or input from a pipeline).\"\n",
    "    * [What is the difference between sed and awk?](http://stackoverflow.com/questions/1632113/what-is-the-difference-between-sed-and-awk)\n",
    "* [miller](https://github.com/johnkerl/miller): \"Miller is like sed, awk, cut, join, and sort for name-indexed data such as CSV.\"\n",
    "* [jq](https://stedolan.github.io/jq/): \"jq is like sed for JSON data - you can use it to slice and filter and map and transform structured data with the same ease that sed, awk, grep and friends let you play with text.\""
   ]
  }
 ],
 "metadata": {
  "kernelspec": {
   "display_name": "Bash",
   "language": "bash",
   "name": "bash"
  },
  "language_info": {
   "codemirror_mode": "shell",
   "file_extension": ".sh",
   "mimetype": "text/x-sh",
   "name": "bash"
  }
 },
 "nbformat": 4,
 "nbformat_minor": 0
}
